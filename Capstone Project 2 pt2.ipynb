{
 "cells": [
  {
   "cell_type": "code",
   "execution_count": 1,
   "metadata": {},
   "outputs": [
    {
     "name": "stderr",
     "output_type": "stream",
     "text": [
      "C:\\Users\\Charles\\Anaconda3\\lib\\site-packages\\sklearn\\ensemble\\weight_boosting.py:29: DeprecationWarning: numpy.core.umath_tests is an internal NumPy module and should not be imported. It will be removed in a future NumPy release.\n",
      "  from numpy.core.umath_tests import inner1d\n"
     ]
    }
   ],
   "source": [
    "import pandas as pd\n",
    "import datetime\n",
    "import numpy as np\n",
    "import gzip\n",
    "import matplotlib.pyplot as plt\n",
    "from sklearn.model_selection import train_test_split, cross_val_score, StratifiedKFold\n",
    "from sklearn.linear_model import LogisticRegression\n",
    "from sklearn.metrics import accuracy_score, classification_report, confusion_matrix\n",
    "from sklearn.ensemble import RandomForestRegressor, RandomForestClassifier\n",
    "from sklearn.metrics import roc_curve, roc_auc_score\n",
    "from xgboost import XGBClassifier\n"
   ]
  },
  {
   "cell_type": "code",
   "execution_count": 2,
   "metadata": {},
   "outputs": [],
   "source": [
    "#Cleaned Machine Learning ready data\n",
    "MS_Data = {}\n",
    "MS_Data = pd.read_csv(r'''C:\\Users\\Charles\\Desktop\\Data Science\\Capstone Project 2\\MS_Data.csv''')"
   ]
  },
  {
   "cell_type": "code",
   "execution_count": 3,
   "metadata": {},
   "outputs": [
    {
     "name": "stdout",
     "output_type": "stream",
     "text": [
      "351775 14\n"
     ]
    }
   ],
   "source": [
    "r, c = MS_Data.shape\n",
    "print(r, c)"
   ]
  },
  {
   "cell_type": "code",
   "execution_count": 4,
   "metadata": {},
   "outputs": [
    {
     "data": {
      "text/html": [
       "<div>\n",
       "<style scoped>\n",
       "    .dataframe tbody tr th:only-of-type {\n",
       "        vertical-align: middle;\n",
       "    }\n",
       "\n",
       "    .dataframe tbody tr th {\n",
       "        vertical-align: top;\n",
       "    }\n",
       "\n",
       "    .dataframe thead th {\n",
       "        text-align: right;\n",
       "    }\n",
       "</style>\n",
       "<table border=\"1\" class=\"dataframe\">\n",
       "  <thead>\n",
       "    <tr style=\"text-align: right;\">\n",
       "      <th></th>\n",
       "      <th>0</th>\n",
       "      <th>1</th>\n",
       "      <th>2</th>\n",
       "      <th>3</th>\n",
       "      <th>4</th>\n",
       "      <th>5</th>\n",
       "      <th>6</th>\n",
       "      <th>7</th>\n",
       "      <th>8</th>\n",
       "      <th>Loan_Amount</th>\n",
       "      <th>Debt_To_Income_Ratio</th>\n",
       "      <th>Employment_Length</th>\n",
       "      <th>Normalized_Risk_Score</th>\n",
       "      <th>Approved_Reject</th>\n",
       "    </tr>\n",
       "  </thead>\n",
       "  <tbody>\n",
       "    <tr>\n",
       "      <th>0</th>\n",
       "      <td>0.0</td>\n",
       "      <td>0.0</td>\n",
       "      <td>0.0</td>\n",
       "      <td>0.0</td>\n",
       "      <td>0.0</td>\n",
       "      <td>0.0</td>\n",
       "      <td>0.0</td>\n",
       "      <td>1.0</td>\n",
       "      <td>0.0</td>\n",
       "      <td>500.0</td>\n",
       "      <td>0.0000</td>\n",
       "      <td>1</td>\n",
       "      <td>-3.338620</td>\n",
       "      <td>0</td>\n",
       "    </tr>\n",
       "    <tr>\n",
       "      <th>1</th>\n",
       "      <td>0.0</td>\n",
       "      <td>0.0</td>\n",
       "      <td>0.0</td>\n",
       "      <td>0.0</td>\n",
       "      <td>0.0</td>\n",
       "      <td>0.0</td>\n",
       "      <td>0.0</td>\n",
       "      <td>1.0</td>\n",
       "      <td>0.0</td>\n",
       "      <td>500.0</td>\n",
       "      <td>0.0000</td>\n",
       "      <td>11</td>\n",
       "      <td>-0.272743</td>\n",
       "      <td>0</td>\n",
       "    </tr>\n",
       "    <tr>\n",
       "      <th>2</th>\n",
       "      <td>0.0</td>\n",
       "      <td>0.0</td>\n",
       "      <td>0.0</td>\n",
       "      <td>0.0</td>\n",
       "      <td>0.0</td>\n",
       "      <td>0.0</td>\n",
       "      <td>0.0</td>\n",
       "      <td>1.0</td>\n",
       "      <td>0.0</td>\n",
       "      <td>500.0</td>\n",
       "      <td>0.0231</td>\n",
       "      <td>2</td>\n",
       "      <td>0.901663</td>\n",
       "      <td>0</td>\n",
       "    </tr>\n",
       "    <tr>\n",
       "      <th>3</th>\n",
       "      <td>0.0</td>\n",
       "      <td>0.0</td>\n",
       "      <td>0.0</td>\n",
       "      <td>0.0</td>\n",
       "      <td>0.0</td>\n",
       "      <td>0.0</td>\n",
       "      <td>0.0</td>\n",
       "      <td>1.0</td>\n",
       "      <td>0.0</td>\n",
       "      <td>500.0</td>\n",
       "      <td>0.0893</td>\n",
       "      <td>7</td>\n",
       "      <td>-0.210635</td>\n",
       "      <td>0</td>\n",
       "    </tr>\n",
       "    <tr>\n",
       "      <th>4</th>\n",
       "      <td>0.0</td>\n",
       "      <td>0.0</td>\n",
       "      <td>0.0</td>\n",
       "      <td>0.0</td>\n",
       "      <td>0.0</td>\n",
       "      <td>1.0</td>\n",
       "      <td>0.0</td>\n",
       "      <td>0.0</td>\n",
       "      <td>0.0</td>\n",
       "      <td>500.0</td>\n",
       "      <td>0.0658</td>\n",
       "      <td>4</td>\n",
       "      <td>-0.865592</td>\n",
       "      <td>0</td>\n",
       "    </tr>\n",
       "  </tbody>\n",
       "</table>\n",
       "</div>"
      ],
      "text/plain": [
       "     0    1    2    3    4    5    6    7    8  Loan_Amount  \\\n",
       "0  0.0  0.0  0.0  0.0  0.0  0.0  0.0  1.0  0.0        500.0   \n",
       "1  0.0  0.0  0.0  0.0  0.0  0.0  0.0  1.0  0.0        500.0   \n",
       "2  0.0  0.0  0.0  0.0  0.0  0.0  0.0  1.0  0.0        500.0   \n",
       "3  0.0  0.0  0.0  0.0  0.0  0.0  0.0  1.0  0.0        500.0   \n",
       "4  0.0  0.0  0.0  0.0  0.0  1.0  0.0  0.0  0.0        500.0   \n",
       "\n",
       "   Debt_To_Income_Ratio  Employment_Length  Normalized_Risk_Score  \\\n",
       "0                0.0000                  1              -3.338620   \n",
       "1                0.0000                 11              -0.272743   \n",
       "2                0.0231                  2               0.901663   \n",
       "3                0.0893                  7              -0.210635   \n",
       "4                0.0658                  4              -0.865592   \n",
       "\n",
       "   Approved_Reject  \n",
       "0                0  \n",
       "1                0  \n",
       "2                0  \n",
       "3                0  \n",
       "4                0  "
      ]
     },
     "execution_count": 4,
     "metadata": {},
     "output_type": "execute_result"
    }
   ],
   "source": [
    "MS_Data.head()"
   ]
  },
  {
   "cell_type": "code",
   "execution_count": 5,
   "metadata": {},
   "outputs": [],
   "source": [
    "# Split the data into a training and test set.\n",
    "X = MS_Data.drop('Approved_Reject',axis=1).values\n",
    "y = (MS_Data['Approved_Reject']).values\n",
    "X_train, X_test, y_train, y_test = train_test_split(X, y, test_size = 0.2, random_state=5)"
   ]
  },
  {
   "cell_type": "markdown",
   "metadata": {},
   "source": [
    "# Baseline\n",
    "Assumes anything over 40% debt to income ratio to be rejected and anything under to be approved"
   ]
  },
  {
   "cell_type": "code",
   "execution_count": 6,
   "metadata": {},
   "outputs": [
    {
     "data": {
      "text/plain": [
       "array([   1.        ,    0.        ,    0.        ,    0.        ,\n",
       "          0.        ,    0.        ,    0.        ,    0.        ,\n",
       "          0.        , 4000.        ,    0.1043    ,    0.        ,\n",
       "         -0.13723424])"
      ]
     },
     "execution_count": 6,
     "metadata": {},
     "output_type": "execute_result"
    }
   ],
   "source": [
    "np.set_printoptions(suppress=True)\n",
    "X_test[0]"
   ]
  },
  {
   "cell_type": "code",
   "execution_count": 7,
   "metadata": {},
   "outputs": [],
   "source": [
    "baseline = []\n",
    "baseline = np.where(X_test[:,10] > 0.4, 0, 1)"
   ]
  },
  {
   "cell_type": "code",
   "execution_count": 8,
   "metadata": {},
   "outputs": [
    {
     "name": "stdout",
     "output_type": "stream",
     "text": [
      "(70355,)\n",
      "(70355, 13)\n"
     ]
    }
   ],
   "source": [
    "print(baseline.shape)\n",
    "print(X_test.shape)\n"
   ]
  },
  {
   "cell_type": "code",
   "execution_count": 9,
   "metadata": {},
   "outputs": [
    {
     "name": "stdout",
     "output_type": "stream",
     "text": [
      "             precision    recall  f1-score   support\n",
      "\n",
      "          0       0.98      0.09      0.17     49228\n",
      "          1       0.32      1.00      0.48     21127\n",
      "\n",
      "avg / total       0.78      0.36      0.26     70355\n",
      "\n"
     ]
    }
   ],
   "source": [
    "print(classification_report(y_test, baseline))"
   ]
  },
  {
   "cell_type": "code",
   "execution_count": 10,
   "metadata": {},
   "outputs": [
    {
     "name": "stdout",
     "output_type": "stream",
     "text": [
      "0.3624760144979035\n"
     ]
    }
   ],
   "source": [
    "print(accuracy_score(baseline, y_test))"
   ]
  },
  {
   "cell_type": "markdown",
   "metadata": {},
   "source": [
    "# Logistic Regression"
   ]
  },
  {
   "cell_type": "code",
   "execution_count": 11,
   "metadata": {},
   "outputs": [],
   "source": [
    "logmodel = LogisticRegression()\n",
    "logmodel.fit(X_train,y_train)\n",
    "LR_predictions = logmodel.predict(X_test)"
   ]
  },
  {
   "cell_type": "code",
   "execution_count": null,
   "metadata": {},
   "outputs": [],
   "source": []
  },
  {
   "cell_type": "code",
   "execution_count": 12,
   "metadata": {},
   "outputs": [
    {
     "name": "stdout",
     "output_type": "stream",
     "text": [
      "             precision    recall  f1-score   support\n",
      "\n",
      "          0       0.85      0.94      0.89     49228\n",
      "          1       0.81      0.60      0.69     21127\n",
      "\n",
      "avg / total       0.83      0.84      0.83     70355\n",
      "\n"
     ]
    }
   ],
   "source": [
    "print(classification_report(y_test,LR_predictions))\n",
    "#Recall = TP/(TP+FN)\n",
    "#Precision = TP/(TP+FP)"
   ]
  },
  {
   "cell_type": "code",
   "execution_count": 13,
   "metadata": {},
   "outputs": [
    {
     "name": "stdout",
     "output_type": "stream",
     "text": [
      "0.8371828583611683\n"
     ]
    }
   ],
   "source": [
    "print(accuracy_score(LR_predictions, y_test))\n",
    "#accuracy = (TP+FN)/Total Num of Samples"
   ]
  },
  {
   "cell_type": "code",
   "execution_count": 14,
   "metadata": {},
   "outputs": [
    {
     "data": {
      "text/plain": [
       "0.9110959329335613"
      ]
     },
     "execution_count": 14,
     "metadata": {},
     "output_type": "execute_result"
    }
   ],
   "source": [
    "roc_auc_score(y_test, logmodel.predict_proba(X_test)[:, 1])"
   ]
  },
  {
   "cell_type": "code",
   "execution_count": 15,
   "metadata": {},
   "outputs": [],
   "source": [
    "#cross_val_score by default does not shuffle when applying stratification sampling. Raw data is sorted by time series and labeling\n",
    "#so random shuffle is important to generate consistent result\n",
    "cv=StratifiedKFold(n_splits=3, shuffle=True, random_state=42)\n",
    "LR_cv_score = cross_val_score(logmodel,X, y, cv=cv,scoring='roc_auc')"
   ]
  },
  {
   "cell_type": "code",
   "execution_count": 16,
   "metadata": {},
   "outputs": [
    {
     "name": "stdout",
     "output_type": "stream",
     "text": [
      "All AUC Scores\n",
      "[0.91204962 0.91086218 0.91212494]\n",
      "\n",
      "\n",
      "Mean AUC Score\n",
      "0.9116789131891609\n"
     ]
    }
   ],
   "source": [
    "print(\"All AUC Scores\")\n",
    "print(LR_cv_score)\n",
    "print('\\n')\n",
    "print(\"Mean AUC Score\")\n",
    "print(LR_cv_score.mean())"
   ]
  },
  {
   "cell_type": "code",
   "execution_count": 17,
   "metadata": {},
   "outputs": [
    {
     "name": "stdout",
     "output_type": "stream",
     "text": [
      "Confusion Matrix\n",
      "[[12695  8432]\n",
      " [ 3023 46205]]\n"
     ]
    }
   ],
   "source": [
    "print(\"Confusion Matrix\")\n",
    "print(confusion_matrix(y_test, LR_predictions,labels=[1,0]))\n",
    "#left label: predicted class\n",
    "#top label: actual class"
   ]
  },
  {
   "cell_type": "markdown",
   "metadata": {},
   "source": [
    "# Random Forest"
   ]
  },
  {
   "cell_type": "code",
   "execution_count": 18,
   "metadata": {},
   "outputs": [],
   "source": [
    "rf = RandomForestClassifier(n_estimators = 100, random_state = 42)\n",
    "rf.fit(X_train, y_train)\n",
    "RF_predictions = rf.predict(X_test)"
   ]
  },
  {
   "cell_type": "code",
   "execution_count": 19,
   "metadata": {},
   "outputs": [
    {
     "name": "stdout",
     "output_type": "stream",
     "text": [
      "             precision    recall  f1-score   support\n",
      "\n",
      "          0       0.97      0.97      0.97     49228\n",
      "          1       0.92      0.92      0.92     21127\n",
      "\n",
      "avg / total       0.95      0.95      0.95     70355\n",
      "\n"
     ]
    }
   ],
   "source": [
    "print(classification_report(y_test,RF_predictions))"
   ]
  },
  {
   "cell_type": "code",
   "execution_count": 20,
   "metadata": {},
   "outputs": [
    {
     "name": "stdout",
     "output_type": "stream",
     "text": [
      "0.9530523772297633\n"
     ]
    }
   ],
   "source": [
    "print(accuracy_score(RF_predictions, y_test))"
   ]
  },
  {
   "cell_type": "code",
   "execution_count": 21,
   "metadata": {},
   "outputs": [
    {
     "data": {
      "text/plain": [
       "0.990192611888461"
      ]
     },
     "execution_count": 21,
     "metadata": {},
     "output_type": "execute_result"
    }
   ],
   "source": [
    "\n",
    "roc_auc_score(y_test, rf.predict_proba(X_test)[:, 1])"
   ]
  },
  {
   "cell_type": "code",
   "execution_count": 22,
   "metadata": {},
   "outputs": [],
   "source": [
    "#AUC curve is prefered choice over accuracy for binary classification\n",
    "\n",
    "cv=StratifiedKFold(n_splits=3, shuffle=True, random_state=42)\n",
    "rfc_cv_score = cross_val_score(rf,X, y, cv=cv,scoring='roc_auc')\n",
    "\n"
   ]
  },
  {
   "cell_type": "code",
   "execution_count": 23,
   "metadata": {},
   "outputs": [
    {
     "name": "stdout",
     "output_type": "stream",
     "text": [
      "All AUC Scores\n",
      "[0.98921236 0.989307   0.98900168]\n",
      "\n",
      "\n",
      "Mean AUC Score\n",
      "0.9891736776783754\n"
     ]
    }
   ],
   "source": [
    "print(\"All AUC Scores\")\n",
    "print(rfc_cv_score)\n",
    "print('\\n')\n",
    "print(\"Mean AUC Score\")\n",
    "print(rfc_cv_score.mean())"
   ]
  },
  {
   "cell_type": "code",
   "execution_count": 24,
   "metadata": {},
   "outputs": [
    {
     "name": "stdout",
     "output_type": "stream",
     "text": [
      "Confusion Matrix\n",
      "[[19449  1678]\n",
      " [ 1625 47603]]\n"
     ]
    }
   ],
   "source": [
    "print(\"Confusion Matrix\")\n",
    "print(confusion_matrix(y_test, RF_predictions,labels=[1,0]))\n",
    "#left label: predicted class\n",
    "#top label: actual class"
   ]
  },
  {
   "cell_type": "code",
   "execution_count": 25,
   "metadata": {},
   "outputs": [
    {
     "name": "stdout",
     "output_type": "stream",
     "text": [
      "['0', '1', '2', '3', '4', '5', '6', '7', '8', 'Loan_Amount', 'Debt_To_Income_Ratio', 'Employment_Length', 'Normalized_Risk_Score']\n"
     ]
    }
   ],
   "source": [
    "feature_list= list(MS_Data.drop('Approved_Reject',axis=1).columns)\n",
    "print(feature_list)"
   ]
  },
  {
   "cell_type": "code",
   "execution_count": 26,
   "metadata": {},
   "outputs": [
    {
     "name": "stdout",
     "output_type": "stream",
     "text": [
      "[0.00082 0.00077 0.00083 0.0004  0.00056 0.00058 0.00052 0.00116 0.00081\n",
      " 0.08708 0.1245  0.54676 0.23519]\n"
     ]
    }
   ],
   "source": [
    "importances = list(rf.feature_importances_)\n",
    "round_importance = np.round(importances,5)\n",
    "print(round_importance)"
   ]
  },
  {
   "cell_type": "code",
   "execution_count": 27,
   "metadata": {
    "scrolled": true
   },
   "outputs": [
    {
     "name": "stdout",
     "output_type": "stream",
     "text": [
      "Variable: Employment_Length    Importance: 0.54676\n",
      "Variable: Normalized_Risk_Score Importance: 0.23519\n",
      "Variable: Debt_To_Income_Ratio Importance: 0.1245\n",
      "Variable: Loan_Amount          Importance: 0.08708\n",
      "Variable: 7                    Importance: 0.00116\n",
      "Variable: 2                    Importance: 0.00083\n",
      "Variable: 0                    Importance: 0.00082\n",
      "Variable: 8                    Importance: 0.00081\n",
      "Variable: 1                    Importance: 0.00077\n",
      "Variable: 5                    Importance: 0.00058\n",
      "Variable: 4                    Importance: 0.00056\n",
      "Variable: 6                    Importance: 0.00052\n",
      "Variable: 3                    Importance: 0.0004\n"
     ]
    }
   ],
   "source": [
    "feature_importances = [(feature, round_importance) for feature, round_importance in zip(feature_list, round_importance)]\n",
    "feature_importances = sorted(feature_importances, key = lambda x: x[1], reverse = True)\n",
    "[print('Variable: {:20} Importance: {}'.format(*pair)) for pair in feature_importances];"
   ]
  },
  {
   "cell_type": "markdown",
   "metadata": {},
   "source": [
    "# XGboost"
   ]
  },
  {
   "cell_type": "code",
   "execution_count": 28,
   "metadata": {},
   "outputs": [
    {
     "data": {
      "text/plain": [
       "XGBClassifier(base_score=0.5, booster='gbtree', colsample_bylevel=1,\n",
       "       colsample_bynode=1, colsample_bytree=1, gamma=0, learning_rate=0.1,\n",
       "       max_delta_step=0, max_depth=3, min_child_weight=1, missing=None,\n",
       "       n_estimators=100, n_jobs=1, nthread=None,\n",
       "       objective='binary:logistic', random_state=0, reg_alpha=0,\n",
       "       reg_lambda=1, scale_pos_weight=1, seed=None, silent=None,\n",
       "       subsample=1, verbosity=1)"
      ]
     },
     "execution_count": 28,
     "metadata": {},
     "output_type": "execute_result"
    }
   ],
   "source": [
    "XG_model = XGBClassifier()\n",
    "XG_model.fit(X_train, y_train)\n"
   ]
  },
  {
   "cell_type": "code",
   "execution_count": 29,
   "metadata": {},
   "outputs": [
    {
     "name": "stderr",
     "output_type": "stream",
     "text": [
      "C:\\Users\\Charles\\Anaconda3\\lib\\site-packages\\sklearn\\preprocessing\\label.py:151: DeprecationWarning: The truth value of an empty array is ambiguous. Returning False, but in future this will result in an error. Use `array.size > 0` to check that an array is not empty.\n",
      "  if diff:\n"
     ]
    }
   ],
   "source": [
    "XG_predictions = XG_model.predict(X_test)"
   ]
  },
  {
   "cell_type": "code",
   "execution_count": 30,
   "metadata": {},
   "outputs": [
    {
     "name": "stdout",
     "output_type": "stream",
     "text": [
      "             precision    recall  f1-score   support\n",
      "\n",
      "          0       0.97      0.97      0.97     49228\n",
      "          1       0.94      0.92      0.93     21127\n",
      "\n",
      "avg / total       0.96      0.96      0.96     70355\n",
      "\n"
     ]
    }
   ],
   "source": [
    "print(classification_report(y_test,XG_predictions))"
   ]
  },
  {
   "cell_type": "code",
   "execution_count": 32,
   "metadata": {},
   "outputs": [
    {
     "name": "stdout",
     "output_type": "stream",
     "text": [
      "Confusion Matrix\n",
      "[[19449  1678]\n",
      " [ 1625 47603]]\n"
     ]
    }
   ],
   "source": [
    "print(\"Confusion Matrix\")\n",
    "print(confusion_matrix(y_test, RF_predictions,labels=[1,0]))"
   ]
  },
  {
   "cell_type": "code",
   "execution_count": 37,
   "metadata": {},
   "outputs": [
    {
     "name": "stdout",
     "output_type": "stream",
     "text": [
      "All AUC Scores\n",
      "[0.98954234 0.98986778 0.98861844]\n",
      "\n",
      "\n",
      "Mean AUC Score\n",
      "0.9893428491953179\n"
     ]
    }
   ],
   "source": [
    "cv=StratifiedKFold(n_splits=3, shuffle=True, random_state=42)\n",
    "XG_cv_score = cross_val_score(XG_model,X, y, cv=cv,scoring='roc_auc')\n",
    "print(\"All AUC Scores\")\n",
    "print(XG_cv_score)\n",
    "print('\\n')\n",
    "print(\"Mean AUC Score\")\n",
    "print(XG_cv_score.mean())"
   ]
  },
  {
   "cell_type": "code",
   "execution_count": null,
   "metadata": {},
   "outputs": [],
   "source": []
  },
  {
   "cell_type": "code",
   "execution_count": 35,
   "metadata": {},
   "outputs": [
    {
     "name": "stdout",
     "output_type": "stream",
     "text": [
      "Variable: Employment_Length    Importance: 0.8150200247764587\n",
      "Variable: Normalized_Risk_Score Importance: 0.08987999707460403\n",
      "Variable: Debt_To_Income_Ratio Importance: 0.062199998646974564\n",
      "Variable: Loan_Amount          Importance: 0.03290000185370445\n",
      "Variable: 0                    Importance: 0.0\n",
      "Variable: 1                    Importance: 0.0\n",
      "Variable: 2                    Importance: 0.0\n",
      "Variable: 3                    Importance: 0.0\n",
      "Variable: 4                    Importance: 0.0\n",
      "Variable: 5                    Importance: 0.0\n",
      "Variable: 6                    Importance: 0.0\n",
      "Variable: 7                    Importance: 0.0\n",
      "Variable: 8                    Importance: 0.0\n"
     ]
    }
   ],
   "source": [
    "XG_importances = list(XG_model.feature_importances_)\n",
    "XG_round_importance = np.round(XG_importances,5)\n",
    "XG_feature_importances = [(feature, XG_round_importance) for feature, XG_round_importance in zip(feature_list, XG_round_importance)]\n",
    "XG_feature_importances = sorted(XG_feature_importances, key = lambda x: x[1], reverse = True)\n",
    "[print('Variable: {:20} Importance: {}'.format(*pair)) for pair in XG_feature_importances];"
   ]
  },
  {
   "cell_type": "code",
   "execution_count": null,
   "metadata": {},
   "outputs": [],
   "source": []
  }
 ],
 "metadata": {
  "kernelspec": {
   "display_name": "Python 3",
   "language": "python",
   "name": "python3"
  },
  "language_info": {
   "codemirror_mode": {
    "name": "ipython",
    "version": 3
   },
   "file_extension": ".py",
   "mimetype": "text/x-python",
   "name": "python",
   "nbconvert_exporter": "python",
   "pygments_lexer": "ipython3",
   "version": "3.6.4"
  }
 },
 "nbformat": 4,
 "nbformat_minor": 2
}
